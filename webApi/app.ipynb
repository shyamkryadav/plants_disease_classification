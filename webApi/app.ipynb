{
 "cells": [
  {
   "cell_type": "code",
   "execution_count": null,
   "metadata": {},
   "outputs": [
    {
     "ename": "",
     "evalue": "",
     "output_type": "error",
     "traceback": [
      "\u001b[1;31mRunning cells with 'aiModel (Python 3.9.21)' requires the ipykernel package.\n",
      "\u001b[1;31mRun the following command to install 'ipykernel' into the Python environment. \n",
      "\u001b[1;31mCommand: 'conda install -n aiModel ipykernel --update-deps --force-reinstall'"
     ]
    }
   ],
   "source": [
    "import os\n",
    "from flask import Flask, request, jsonify\n",
    "from tensorflow.keras.models import load_model\n",
    "from tensorflow.keras.preprocessing import image\n",
    "import numpy as np\n",
    "from PIL import Image\n",
    "\n",
    "app = Flask(__name__)\n",
    "\n",
    "# Load the model (change the path to the saved model)\n",
    "MODEL_PATH = 'webApi\\\\aiModels\\\\potato_disease_model.h5'  # If you used .h5 format\n",
    "model = load_model(MODEL_PATH)\n",
    "\n",
    "# Define image preprocessing function\n",
    "def preprocess_image(img_path):\n",
    "    img = Image.open(img_path)\n",
    "    img = img.resize((224, 224))  # Resize to model's expected size\n",
    "    img_array = np.array(img)  # Convert image to array\n",
    "    img_array = np.expand_dims(img_array, axis=0)  # Add batch dimension\n",
    "    img_array = img_array / 255.0  # Normalize the image\n",
    "    return img_array\n",
    "\n",
    "@app.route('/predict', methods=['POST'])\n",
    "def predict():\n",
    "    # Check if an image file was uploaded\n",
    "    if 'file' not in request.files:\n",
    "        return jsonify({'error': 'No file part'}), 400\n",
    "\n",
    "    file = request.files['file']\n",
    "\n",
    "    if file.filename == '':\n",
    "        return jsonify({'error': 'No selected file'}), 400\n",
    "\n",
    "    # Save the uploaded file temporarily\n",
    "    img_path = os.path.join('uploads', file.filename)\n",
    "    file.save(img_path)\n",
    "\n",
    "    # Preprocess the image\n",
    "    img_array = preprocess_image(img_path)\n",
    "\n",
    "    # Predict the class using the model\n",
    "    predictions = model.predict(img_array)\n",
    "    predicted_class = np.argmax(predictions, axis=1)\n",
    "\n",
    "    # Return the result as JSON\n",
    "    return jsonify({'predicted_class': str(predicted_class[0])})\n",
    "\n",
    "if __name__ == '__main__':\n",
    "    # Create an uploads directory if it doesn't exist\n",
    "    if not os.path.exists('uploads'):\n",
    "        os.makedirs('uploads')\n",
    "\n",
    "    app.run(debug=True)\n"
   ]
  }
 ],
 "metadata": {
  "kernelspec": {
   "display_name": "aiModel",
   "language": "python",
   "name": "python3"
  },
  "language_info": {
   "name": "python",
   "version": "3.9.21"
  }
 },
 "nbformat": 4,
 "nbformat_minor": 2
}
